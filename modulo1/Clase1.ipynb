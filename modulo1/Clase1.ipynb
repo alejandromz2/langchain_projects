{
 "cells": [
  {
   "cell_type": "code",
   "execution_count": 6,
   "metadata": {},
   "outputs": [
    {
     "name": "stderr",
     "output_type": "stream",
     "text": [
      "E0000 00:00:1760324704.941144  271319 alts_credentials.cc:93] ALTS creds ignored. Not running on GCP and untrusted ALTS is not enabled.\n"
     ]
    }
   ],
   "source": [
    "from langchain_google_genai import ChatGoogleGenerativeAI\n",
    "from langchain.prompts import PromptTemplate\n",
    "from langchain.chains import LLMChain\n",
    "chat = ChatGoogleGenerativeAI(model=\"gemini-2.5-flash\", temperature=0.7)"
   ]
  },
  {
   "cell_type": "code",
   "execution_count": null,
   "metadata": {},
   "outputs": [
    {
     "name": "stdout",
     "output_type": "stream",
     "text": [
      "Pregunta:  En que año se llego a la Luna\n",
      "Respuesta: El hombre llegó a la Luna en el año **1969**.\n",
      "\n",
      "Fue la misión Apolo 11 de la NASA, y los astronautas Neil Armstrong y Buzz Aldrin fueron los primeros en pisar la superficie lunar el 20 de julio de 1969.\n"
     ]
    }
   ],
   "source": [
    "# Uso básico\n",
    "pregunta = \"En que año se llego a la Luna\"\n",
    "print(\"Pregunta: \", pregunta)\n",
    "respuesta = chat.invoke(pregunta)\n",
    "print(\"Respuesta:\", respuesta.content)"
   ]
  },
  {
   "cell_type": "code",
   "execution_count": null,
   "metadata": {},
   "outputs": [
    {
     "name": "stdout",
     "output_type": "stream",
     "text": [
      "¡Hola, Alejandro!\n"
     ]
    }
   ],
   "source": [
    "# Cadenas antiguas\n",
    "plantilla = PromptTemplate(\n",
    "    input_variables=[\"nombre\"],\n",
    "    template=\"Saluda al usuario con su nombre.\\nNombre del usuario: {nombre}\\nAsistente:\"\n",
    ")\n",
    "\n",
    "chain = LLMChain(llm=chat, prompt=plantilla)\n",
    "resultado = chain.run(nombre='Alejandro')\n",
    "print(resultado)"
   ]
  },
  {
   "cell_type": "code",
   "execution_count": 10,
   "metadata": {},
   "outputs": [
    {
     "name": "stdout",
     "output_type": "stream",
     "text": [
      "Hola Carlos, ¡bienvenido!\n"
     ]
    }
   ],
   "source": [
    "chain = plantilla | chat\n",
    "resultado = chain.invoke({\"nombre\":\"Carlos\"})\n",
    "print(resultado.content)"
   ]
  }
 ],
 "metadata": {
  "kernelspec": {
   "display_name": ".venv",
   "language": "python",
   "name": "python3"
  },
  "language_info": {
   "codemirror_mode": {
    "name": "ipython",
    "version": 3
   },
   "file_extension": ".py",
   "mimetype": "text/x-python",
   "name": "python",
   "nbconvert_exporter": "python",
   "pygments_lexer": "ipython3",
   "version": "3.13.3"
  }
 },
 "nbformat": 4,
 "nbformat_minor": 2
}
